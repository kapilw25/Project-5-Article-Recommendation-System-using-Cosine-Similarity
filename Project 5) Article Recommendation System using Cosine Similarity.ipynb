{
 "cells": [
  {
   "cell_type": "markdown",
   "id": "23e31b54",
   "metadata": {},
   "source": [
    "#### A recommendation system \n",
    "is one of the applications of data science that is used by almost any application or website today. \n",
    "\n",
    "Many websites today use a recommendation system to recommend articles to their readers. \n",
    "\n",
    "Even the website you’re currently reading this article on is also using a recommendation system to recommend articles to its readers. "
   ]
  },
  {
   "cell_type": "markdown",
   "id": "e23d93ef",
   "metadata": {},
   "source": [
    "#### focus on content rather than user interest\n",
    "\n",
    "To create an articles recommendation system, we need to focus on content rather than user interest. For example, if a user reads an article based on clustering, all recommended articles should also be based on clustering. So to recommend articles based on the content:\n",
    "\n",
    "1) we need to understand the content of the article\n",
    "\n",
    "2) match the content with all the other articles\n",
    "and \n",
    "\n",
    "3) recommend the most suitable articles for the article that the reader is already reading"
   ]
  },
  {
   "cell_type": "markdown",
   "id": "4e0f03f5",
   "metadata": {},
   "source": [
    "#### cosine similarity in machine learning.\n",
    "For this task, we can use this concept\n",
    "\n",
    "Cosine similarity is a method of building recommendation systems based on the content. \n",
    "\n",
    "It is used to find similarities between two different pieces of text documents. \n",
    "\n",
    "So we can use cosine similarity to build an article recommendation system. \n",
    "\n",
    "#### Mechanism of Cosine Similarity\n",
    " It does this by calculating the similarity score between the vectors, which is done by finding the angles between them. \n",
    " \n",
    " The range of similarities is between 0 and 1. \n",
    " \n",
    " If the value of the similarity score between two vectors is 1,\n",
    "     it means that there is a greater similarity between the two vectors.\n",
    "\n",
    "On the other hand, if the value of the similarity score between two vectors is 0, it means that there is no similarity between the two vectors. \n",
    "\n",
    "When the similarity score is one, the angle between two vectors is 0 and when the similarity score is 0, the angle between two vectors is 90 degrees."
   ]
  },
  {
   "cell_type": "markdown",
   "id": "1e521f80",
   "metadata": {},
   "source": [
    "### Article Recommendation System using Python"
   ]
  },
  {
   "cell_type": "code",
   "execution_count": 33,
   "id": "f524a88f",
   "metadata": {},
   "outputs": [
    {
     "data": {
      "text/html": [
       "<div>\n",
       "<style scoped>\n",
       "    .dataframe tbody tr th:only-of-type {\n",
       "        vertical-align: middle;\n",
       "    }\n",
       "\n",
       "    .dataframe tbody tr th {\n",
       "        vertical-align: top;\n",
       "    }\n",
       "\n",
       "    .dataframe thead th {\n",
       "        text-align: right;\n",
       "    }\n",
       "</style>\n",
       "<table border=\"1\" class=\"dataframe\">\n",
       "  <thead>\n",
       "    <tr style=\"text-align: right;\">\n",
       "      <th></th>\n",
       "      <th>Article</th>\n",
       "      <th>Title</th>\n",
       "    </tr>\n",
       "  </thead>\n",
       "  <tbody>\n",
       "    <tr>\n",
       "      <th>0</th>\n",
       "      <td>Data analysis is the process of inspecting and...</td>\n",
       "      <td>Best Books to Learn Data Analysis</td>\n",
       "    </tr>\n",
       "    <tr>\n",
       "      <th>1</th>\n",
       "      <td>The performance of a machine learning algorith...</td>\n",
       "      <td>Assumptions of Machine Learning Algorithms</td>\n",
       "    </tr>\n",
       "    <tr>\n",
       "      <th>2</th>\n",
       "      <td>You must have seen the news divided into categ...</td>\n",
       "      <td>News Classification with Machine Learning</td>\n",
       "    </tr>\n",
       "    <tr>\n",
       "      <th>3</th>\n",
       "      <td>When there are only two classes in a classific...</td>\n",
       "      <td>Multiclass Classification Algorithms in Machin...</td>\n",
       "    </tr>\n",
       "    <tr>\n",
       "      <th>4</th>\n",
       "      <td>The Multinomial Naive Bayes is one of the vari...</td>\n",
       "      <td>Multinomial Naive Bayes in Machine Learning</td>\n",
       "    </tr>\n",
       "  </tbody>\n",
       "</table>\n",
       "</div>"
      ],
      "text/plain": [
       "                                             Article  \\\n",
       "0  Data analysis is the process of inspecting and...   \n",
       "1  The performance of a machine learning algorith...   \n",
       "2  You must have seen the news divided into categ...   \n",
       "3  When there are only two classes in a classific...   \n",
       "4  The Multinomial Naive Bayes is one of the vari...   \n",
       "\n",
       "                                               Title  \n",
       "0                  Best Books to Learn Data Analysis  \n",
       "1         Assumptions of Machine Learning Algorithms  \n",
       "2          News Classification with Machine Learning  \n",
       "3  Multiclass Classification Algorithms in Machin...  \n",
       "4        Multinomial Naive Bayes in Machine Learning  "
      ]
     },
     "execution_count": 33,
     "metadata": {},
     "output_type": "execute_result"
    }
   ],
   "source": [
    "# import numpy as np\n",
    "# from sklearn.feature_extraction import text\n",
    "# from sklearn.metrics.pairwise import cosine_similarity\n",
    "\n",
    "import pandas as pd\n",
    "df = pd.read_csv(\"article_recommendation.csv\",\n",
    "                 encoding='latin1')\n",
    "df.head()"
   ]
  },
  {
   "cell_type": "code",
   "execution_count": 8,
   "id": "252588c5",
   "metadata": {},
   "outputs": [
    {
     "data": {
      "text/plain": [
       "(34, 2)"
      ]
     },
     "execution_count": 8,
     "metadata": {},
     "output_type": "execute_result"
    }
   ],
   "source": [
    "df.shape"
   ]
  },
  {
   "cell_type": "code",
   "execution_count": 18,
   "id": "40ec13dd",
   "metadata": {},
   "outputs": [
    {
     "data": {
      "text/plain": [
       "TfidfVectorizer(input=['Data analysis is the process of inspecting and '\n",
       "                       'exploring data generated by a particular population to '\n",
       "                       'find the information needed to make decisions and draw '\n",
       "                       'conclusions. With the use of data in decision making, '\n",
       "                       'most businesses today need data analysts. So, if you '\n",
       "                       'want to know about the best books to learn data '\n",
       "                       'analysis, this article is for you. In this article, I '\n",
       "                       'will intro...\n",
       "                       'you to some of the best books to learn deep learning.',\n",
       "                       'Many machine learning algorithms can be used to solve '\n",
       "                       'complex problems that require a large amount of data '\n",
       "                       'with a large number of features, but deep learning can '\n",
       "                       'outperform all algorithms. So to understand where we '\n",
       "                       'can use deep learning techniques, in this article, I '\n",
       "                       'will introduce you to the applications of deep '\n",
       "                       'learning.', ...],\n",
       "                stop_words='english')"
      ]
     },
     "execution_count": 18,
     "metadata": {},
     "output_type": "execute_result"
    }
   ],
   "source": [
    "# let’s use the cosine similarity algorithm\n",
    "articles = df['Article'].tolist()\n",
    "\n",
    "from sklearn.feature_extraction import text\n",
    "uni_tfidf = text.TfidfVectorizer(input=articles,\n",
    "                                stop_words='english')\n",
    "uni_tfidf"
   ]
  },
  {
   "cell_type": "code",
   "execution_count": 19,
   "id": "5d5ed50a",
   "metadata": {},
   "outputs": [
    {
     "data": {
      "text/plain": [
       "<34x407 sparse matrix of type '<class 'numpy.float64'>'\n",
       "\twith 846 stored elements in Compressed Sparse Row format>"
      ]
     },
     "execution_count": 19,
     "metadata": {},
     "output_type": "execute_result"
    }
   ],
   "source": [
    "uni_matrix = uni_tfidf.fit_transform(articles)\n",
    "uni_matrix"
   ]
  },
  {
   "cell_type": "code",
   "execution_count": 16,
   "id": "e92b32ee",
   "metadata": {},
   "outputs": [
    {
     "data": {
      "text/plain": [
       "array([[1.        , 0.02858003, 0.02014231, ..., 0.12022323, 0.00455773,\n",
       "        0.02511323],\n",
       "       [0.02858003, 1.        , 0.07651482, ..., 0.30365338, 0.27795728,\n",
       "        0.00383369],\n",
       "       [0.02014231, 0.07651482, 1.        , ..., 0.08401534, 0.05252305,\n",
       "        0.03233971],\n",
       "       ...,\n",
       "       [0.12022323, 0.30365338, 0.08401534, ..., 1.        , 0.12620279,\n",
       "        0.04275628],\n",
       "       [0.00455773, 0.27795728, 0.05252305, ..., 0.12620279, 1.        ,\n",
       "        0.02113943],\n",
       "       [0.02511323, 0.00383369, 0.03233971, ..., 0.04275628, 0.02113943,\n",
       "        1.        ]])"
      ]
     },
     "execution_count": 16,
     "metadata": {},
     "output_type": "execute_result"
    }
   ],
   "source": [
    "from sklearn.metrics.pairwise import cosine_similarity\n",
    "uni_sim = cosine_similarity(uni_matrix)\n",
    "uni_sim"
   ]
  },
  {
   "cell_type": "code",
   "execution_count": 24,
   "id": "ba346e3f",
   "metadata": {},
   "outputs": [],
   "source": [
    "# let's write a Python function to recommend articles:\n",
    "def recommend_articles(x):\n",
    "    return \", \".join(df[\"Title\"].loc[x.argsort()[-5:-1]])"
   ]
  },
  {
   "cell_type": "code",
   "execution_count": 27,
   "id": "b5d11d03",
   "metadata": {},
   "outputs": [
    {
     "data": {
      "text/html": [
       "<div>\n",
       "<style scoped>\n",
       "    .dataframe tbody tr th:only-of-type {\n",
       "        vertical-align: middle;\n",
       "    }\n",
       "\n",
       "    .dataframe tbody tr th {\n",
       "        vertical-align: top;\n",
       "    }\n",
       "\n",
       "    .dataframe thead th {\n",
       "        text-align: right;\n",
       "    }\n",
       "</style>\n",
       "<table border=\"1\" class=\"dataframe\">\n",
       "  <thead>\n",
       "    <tr style=\"text-align: right;\">\n",
       "      <th></th>\n",
       "      <th>Article</th>\n",
       "      <th>Title</th>\n",
       "      <th>Recommended Articles</th>\n",
       "    </tr>\n",
       "  </thead>\n",
       "  <tbody>\n",
       "    <tr>\n",
       "      <th>0</th>\n",
       "      <td>Data analysis is the process of inspecting and...</td>\n",
       "      <td>Best Books to Learn Data Analysis</td>\n",
       "      <td>Introduction to Recommendation Systems, Best B...</td>\n",
       "    </tr>\n",
       "    <tr>\n",
       "      <th>1</th>\n",
       "      <td>The performance of a machine learning algorith...</td>\n",
       "      <td>Assumptions of Machine Learning Algorithms</td>\n",
       "      <td>Applications of Deep Learning, Best Books to L...</td>\n",
       "    </tr>\n",
       "    <tr>\n",
       "      <th>2</th>\n",
       "      <td>You must have seen the news divided into categ...</td>\n",
       "      <td>News Classification with Machine Learning</td>\n",
       "      <td>Language Detection with Machine Learning, Appl...</td>\n",
       "    </tr>\n",
       "    <tr>\n",
       "      <th>3</th>\n",
       "      <td>When there are only two classes in a classific...</td>\n",
       "      <td>Multiclass Classification Algorithms in Machin...</td>\n",
       "      <td>Assumptions of Machine Learning Algorithms, Be...</td>\n",
       "    </tr>\n",
       "    <tr>\n",
       "      <th>4</th>\n",
       "      <td>The Multinomial Naive Bayes is one of the vari...</td>\n",
       "      <td>Multinomial Naive Bayes in Machine Learning</td>\n",
       "      <td>Assumptions of Machine Learning Algorithms, Me...</td>\n",
       "    </tr>\n",
       "  </tbody>\n",
       "</table>\n",
       "</div>"
      ],
      "text/plain": [
       "                                             Article  \\\n",
       "0  Data analysis is the process of inspecting and...   \n",
       "1  The performance of a machine learning algorith...   \n",
       "2  You must have seen the news divided into categ...   \n",
       "3  When there are only two classes in a classific...   \n",
       "4  The Multinomial Naive Bayes is one of the vari...   \n",
       "\n",
       "                                               Title  \\\n",
       "0                  Best Books to Learn Data Analysis   \n",
       "1         Assumptions of Machine Learning Algorithms   \n",
       "2          News Classification with Machine Learning   \n",
       "3  Multiclass Classification Algorithms in Machin...   \n",
       "4        Multinomial Naive Bayes in Machine Learning   \n",
       "\n",
       "                                Recommended Articles  \n",
       "0  Introduction to Recommendation Systems, Best B...  \n",
       "1  Applications of Deep Learning, Best Books to L...  \n",
       "2  Language Detection with Machine Learning, Appl...  \n",
       "3  Assumptions of Machine Learning Algorithms, Be...  \n",
       "4  Assumptions of Machine Learning Algorithms, Me...  "
      ]
     },
     "execution_count": 27,
     "metadata": {},
     "output_type": "execute_result"
    }
   ],
   "source": [
    "df[\"Recommended Articles\"] = [recommend_articles(x) for x in uni_sim]\n",
    "df.head()\n",
    "\n",
    "# a new column has been added to the dataset that contains the titles of all the recommended articles."
   ]
  },
  {
   "cell_type": "code",
   "execution_count": 29,
   "id": "8206ef41",
   "metadata": {},
   "outputs": [
    {
     "data": {
      "text/plain": [
       "\"You must have seen the news divided into categories when you go to a news website. Some of the popular categories that you'll see on almost any news website are tech, entertainment, and sports. If you want to know how to classify news categories using machine learning, this article is for you. In this article, I will walk you through the task of news classification with machine learning using Python.\""
      ]
     },
     "execution_count": 29,
     "metadata": {},
     "output_type": "execute_result"
    }
   ],
   "source": [
    "df[\"Article\"][2]"
   ]
  },
  {
   "cell_type": "code",
   "execution_count": 30,
   "id": "7802e62d",
   "metadata": {},
   "outputs": [
    {
     "data": {
      "text/plain": [
       "'News Classification with Machine Learning'"
      ]
     },
     "execution_count": 30,
     "metadata": {},
     "output_type": "execute_result"
    }
   ],
   "source": [
    "df[\"Title\"][2]"
   ]
  },
  {
   "cell_type": "code",
   "execution_count": 28,
   "id": "69616ace",
   "metadata": {},
   "outputs": [
    {
     "data": {
      "text/plain": [
       "'Language Detection with Machine Learning, Apple Stock Price Prediction with Machine Learning, Multiclass Classification Algorithms in Machine Learning, News Classification with Machine Learning'"
      ]
     },
     "execution_count": 28,
     "metadata": {},
     "output_type": "execute_result"
    }
   ],
   "source": [
    "# let’s see all the recommendations for an article:\n",
    "df[\"Recommended Articles\"][2]"
   ]
  },
  {
   "cell_type": "code",
   "execution_count": 31,
   "id": "33a5c7a7",
   "metadata": {},
   "outputs": [],
   "source": [
    "# all the recommended articles are also based on the concepts of clustering, \n",
    "    #so we can say that this recommender system can also give great results in real-time."
   ]
  },
  {
   "cell_type": "code",
   "execution_count": null,
   "id": "55c74a35",
   "metadata": {},
   "outputs": [],
   "source": []
  }
 ],
 "metadata": {
  "kernelspec": {
   "display_name": "Python 3 (ipykernel)",
   "language": "python",
   "name": "python3"
  },
  "language_info": {
   "codemirror_mode": {
    "name": "ipython",
    "version": 3
   },
   "file_extension": ".py",
   "mimetype": "text/x-python",
   "name": "python",
   "nbconvert_exporter": "python",
   "pygments_lexer": "ipython3",
   "version": "3.9.7"
  }
 },
 "nbformat": 4,
 "nbformat_minor": 5
}
